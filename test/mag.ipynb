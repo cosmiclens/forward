{
 "cells": [
  {
   "cell_type": "code",
   "execution_count": null,
   "metadata": {},
   "outputs": [],
   "source": [
    "import numpy as np"
   ]
  },
  {
   "cell_type": "code",
   "execution_count": null,
   "metadata": {},
   "outputs": [],
   "source": [
    "%matplotlib inline\n",
    "import matplotlib.pyplot as plt"
   ]
  },
  {
   "cell_type": "code",
   "execution_count": null,
   "metadata": {},
   "outputs": [],
   "source": [
    "from astropy.io import fits\n",
    "from astropy.cosmology import Planck15 as cosmo"
   ]
  },
  {
   "cell_type": "code",
   "execution_count": null,
   "metadata": {},
   "outputs": [],
   "source": [
    "# import forward test module\n",
    "import fwtest"
   ]
  },
  {
   "cell_type": "code",
   "execution_count": null,
   "metadata": {},
   "outputs": [],
   "source": [
    "# load `forward' magnitudes module\n",
    "from forward import mag"
   ]
  },
  {
   "cell_type": "code",
   "execution_count": null,
   "metadata": {},
   "outputs": [],
   "source": [
    "# the SEDs we want to use\n",
    "sed_fits = fits.open('https://github.com/blanton144/kcorrect/raw/master/data/templates/k_nmf_derived.default.fits')"
   ]
  },
  {
   "cell_type": "code",
   "execution_count": null,
   "metadata": {},
   "outputs": [],
   "source": [
    "# the filters for our instrument\n",
    "filt_fits = fits.open('http://www.ctio.noao.edu/noao/sites/default/files/DECam/STD_BANDPASSES_DR1.fits')"
   ]
  },
  {
   "cell_type": "code",
   "execution_count": null,
   "metadata": {},
   "outputs": [],
   "source": [
    "# emitted wavelength lambda and SED function f\n",
    "le = sed_fits[11].data\n",
    "fe = sed_fits[1].data"
   ]
  },
  {
   "cell_type": "code",
   "execution_count": null,
   "metadata": {},
   "outputs": [],
   "source": [
    "# make sure shapes are ok\n",
    "np.shape(le), np.shape(fe)"
   ]
  },
  {
   "cell_type": "code",
   "execution_count": null,
   "metadata": {},
   "outputs": [],
   "source": [
    "# number of SEDs\n",
    "nsed = len(fe)"
   ]
  },
  {
   "cell_type": "code",
   "execution_count": null,
   "metadata": {},
   "outputs": [],
   "source": [
    "# filter bands to use\n",
    "bands = 'griz'"
   ]
  },
  {
   "cell_type": "code",
   "execution_count": null,
   "metadata": {},
   "outputs": [],
   "source": [
    "# number of filters\n",
    "nfilt = len(bands)"
   ]
  },
  {
   "cell_type": "code",
   "execution_count": null,
   "metadata": {},
   "outputs": [],
   "source": [
    "# get the filter columns\n",
    "lx = filt_fits[1].data['LAMBDA']\n",
    "Rx = [filt_fits[1].data[b] for b in bands]"
   ]
  },
  {
   "cell_type": "code",
   "execution_count": null,
   "metadata": {},
   "outputs": [],
   "source": [
    "# colours for plotting\n",
    "plotcolours = ['green', 'red', 'brown', 'purple']"
   ]
  },
  {
   "cell_type": "code",
   "execution_count": null,
   "metadata": {},
   "outputs": [],
   "source": [
    "# show what the filter looks like\n",
    "for i in range(nfilt):\n",
    "    plt.plot(lx, Rx[i], color=plotcolours[i], label=bands[i])\n",
    "plt.xlabel(r'$\\lambda$')\n",
    "plt.ylabel(r'$R_x(\\lambda)$')\n",
    "plt.legend()\n",
    "plt.show()"
   ]
  },
  {
   "cell_type": "code",
   "execution_count": null,
   "metadata": {},
   "outputs": [],
   "source": [
    "# redshift range\n",
    "z = np.arange(0, 4, 0.01)"
   ]
  },
  {
   "cell_type": "code",
   "execution_count": null,
   "metadata": {},
   "outputs": [],
   "source": [
    "# compute AB zeropoints for filters\n",
    "m0 = mag.abzeropt(lx, Rx)"
   ]
  },
  {
   "cell_type": "code",
   "execution_count": null,
   "metadata": {},
   "outputs": [],
   "source": [
    "# zeropoints should be about 2\n",
    "m0"
   ]
  },
  {
   "cell_type": "code",
   "execution_count": null,
   "metadata": {},
   "outputs": [],
   "source": [
    "# compute fluxes\n",
    "f = mag.flux(z, le, fe, lx, Rx)"
   ]
  },
  {
   "cell_type": "code",
   "execution_count": null,
   "metadata": {},
   "outputs": [],
   "source": [
    "# the shape should be (len(z), len(fe), len(Rx))\n",
    "np.shape(f)"
   ]
  },
  {
   "cell_type": "code",
   "execution_count": null,
   "metadata": {},
   "outputs": [],
   "source": [
    "# convert fluxes to AB magnitudes\n",
    "m = -2.5*np.log10(f) - m0"
   ]
  },
  {
   "cell_type": "code",
   "execution_count": null,
   "metadata": {},
   "outputs": [],
   "source": [
    "# plot the AB magnitudes\n",
    "plt.figure(figsize=(8, 6))\n",
    "for i in range(nsed):\n",
    "    plt.subplot(3, 3, i+1)\n",
    "    plt.title(r'SED {}'.format(i+1))\n",
    "    plt.xlabel(r'$z$')\n",
    "    plt.ylabel(r'${\\rm mag}_x$')\n",
    "    for j in range(nfilt):\n",
    "        plt.plot(z, m[:,i,j], color=plotcolours[j], label=bands[j])\n",
    "    plt.legend()\n",
    "plt.tight_layout()\n",
    "plt.show()"
   ]
  },
  {
   "cell_type": "code",
   "execution_count": null,
   "metadata": {},
   "outputs": [],
   "source": [
    "# plot the colours\n",
    "nc = nfilt-1\n",
    "fig, axes = plt.subplots(nsed, nc, figsize=(8, 6), sharex='all', sharey='all')\n",
    "for i in range(nsed):\n",
    "    for j in range(nc):\n",
    "        ax = axes[i,j]\n",
    "        if i == nsed-1:\n",
    "            ax.set_xlabel(r'$z$')\n",
    "        ax.set_ylabel(r'${}-{}$'.format(bands[j], bands[j+1]))\n",
    "        ax.plot(z, m[:,i,j]-m[:,i,j+1])\n",
    "plt.tight_layout()\n",
    "plt.show()"
   ]
  },
  {
   "cell_type": "code",
   "execution_count": null,
   "metadata": {},
   "outputs": [],
   "source": [
    "# plot the distance modulus\n",
    "dm = mag.distmod(z, cosmo)\n",
    "plt.plot(z, dm)\n",
    "plt.xlabel(r'$z$')\n",
    "plt.ylabel(r'$\\rm DM$')\n",
    "plt.show()"
   ]
  },
  {
   "cell_type": "code",
   "execution_count": null,
   "metadata": {},
   "outputs": [],
   "source": []
  }
 ],
 "metadata": {
  "kernelspec": {
   "display_name": "Python 3",
   "language": "python",
   "name": "python3"
  },
  "language_info": {
   "codemirror_mode": {
    "name": "ipython",
    "version": 3
   },
   "file_extension": ".py",
   "mimetype": "text/x-python",
   "name": "python",
   "nbconvert_exporter": "python",
   "pygments_lexer": "ipython3",
   "version": "3.6.8"
  }
 },
 "nbformat": 4,
 "nbformat_minor": 1
}
